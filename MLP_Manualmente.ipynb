{
  "nbformat": 4,
  "nbformat_minor": 0,
  "metadata": {
    "colab": {
      "name": "MLP_Manualmente.ipynb",
      "provenance": [],
      "collapsed_sections": []
    },
    "kernelspec": {
      "name": "python3",
      "display_name": "Python 3"
    }
  },
  "cells": [
    {
      "cell_type": "markdown",
      "metadata": {
        "id": "ZKZqiS7xOIUE"
      },
      "source": [
        "# Configurações"
      ]
    },
    {
      "cell_type": "markdown",
      "metadata": {
        "id": "67GVEeS0ezxK"
      },
      "source": [
        "Carregando dados do computador.\n"
      ]
    },
    {
      "cell_type": "code",
      "metadata": {
        "id": "d-PzZG5je7P1",
        "colab": {
          "resources": {
            "http://localhost:8080/nbextensions/google.colab/files.js": {
              "data": "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",
              "ok": true,
              "headers": [
                [
                  "content-type",
                  "application/javascript"
                ]
              ],
              "status": 200,
              "status_text": ""
            }
          },
          "base_uri": "https://localhost:8080/",
          "height": 72
        },
        "outputId": "5b69e7c0-631b-4cd1-bdcf-bdb1e71992e7"
      },
      "source": [
        "from google.colab import files\n",
        "uploaded = files.upload()"
      ],
      "execution_count": 11,
      "outputs": [
        {
          "output_type": "display_data",
          "data": {
            "text/html": [
              "\n",
              "     <input type=\"file\" id=\"files-2864e8c2-4794-4ba9-b09a-a976f84dd357\" name=\"files[]\" multiple disabled\n",
              "        style=\"border:none\" />\n",
              "     <output id=\"result-2864e8c2-4794-4ba9-b09a-a976f84dd357\">\n",
              "      Upload widget is only available when the cell has been executed in the\n",
              "      current browser session. Please rerun this cell to enable.\n",
              "      </output>\n",
              "      <script src=\"/nbextensions/google.colab/files.js\"></script> "
            ],
            "text/plain": [
              "<IPython.core.display.HTML object>"
            ]
          },
          "metadata": {}
        },
        {
          "output_type": "stream",
          "name": "stdout",
          "text": [
            "Saving iris.data to iris.data\n"
          ]
        }
      ]
    },
    {
      "cell_type": "markdown",
      "metadata": {
        "id": "wAFdsgkiyCzI"
      },
      "source": [
        "# Flag para determinar função de ativação"
      ]
    },
    {
      "cell_type": "code",
      "metadata": {
        "id": "-9tNKYdbyHVY"
      },
      "source": [
        "tanh_flag = False"
      ],
      "execution_count": 12,
      "outputs": []
    },
    {
      "cell_type": "markdown",
      "metadata": {
        "id": "jldAi3CjPfAR"
      },
      "source": [
        "# Pré-processamento"
      ]
    },
    {
      "cell_type": "code",
      "metadata": {
        "id": "8mtbgY3cOMdb"
      },
      "source": [
        "import numpy as np\n",
        "from sklearn.model_selection import train_test_split\n",
        "from sklearn.preprocessing import MinMaxScaler\n",
        "\n",
        "def convert_label( label_name ):\n",
        "  if label_name == 'Iris-setosa':\n",
        "    label_id = 0\n",
        "  elif label_name == 'Iris-versicolor':\n",
        "    label_id = 1\n",
        "  elif label_name == 'Iris-virginica':\n",
        "    label_id = 2\n",
        "  return label_id\n",
        "\n",
        "def prepare_data():\n",
        "  data = list()\n",
        "  labels = list()\n",
        "  with open( 'iris.data', 'r' ) as f:\n",
        "    for line in f.readlines():\n",
        "      row = line.strip('\\n').split(',')\n",
        "      if len(row) > 1:\n",
        "        data.append( row[:-1] )\n",
        "        labels.append( convert_label( row[-1] ) )\n",
        "  data = np.array( data, dtype=np.float32 )\n",
        "  labels = np.array( labels, dtype=np.int32 )\n",
        "\n",
        "  num_categories = 3\n",
        "  new_labels = np.zeros( [ len(labels), num_categories ] )\n",
        "  if tanh_flag:\n",
        "    new_labels.fill(-1)\n",
        "  for i in range( len(labels) ):\n",
        "    new_labels[ i, labels[i]-1 ] = 1.\n",
        "  labels = new_labels\n",
        "\n",
        "  # Separar em treinamento e teste\n",
        "  X_train, X_test, y_train, y_test = train_test_split( data,\n",
        "                                                      labels, \n",
        "                                                      test_size=0.33,\n",
        "                                                      shuffle= True )\n",
        "\n",
        "  # Normalizar\n",
        "  scaler = MinMaxScaler( (-1,1) )\n",
        "  X_train = scaler.fit_transform( X_train )\n",
        "  X_test = scaler.transform( X_test )\n",
        "  return X_train, X_test, y_train, y_test"
      ],
      "execution_count": 13,
      "outputs": []
    },
    {
      "cell_type": "markdown",
      "metadata": {
        "id": "e7rSdj5MTywB"
      },
      "source": [
        "# Implementar MLP"
      ]
    },
    {
      "cell_type": "markdown",
      "metadata": {
        "id": "By3PFiJMVhdX"
      },
      "source": [
        "Função para inicializar os pesos aleatoriamente."
      ]
    },
    {
      "cell_type": "code",
      "metadata": {
        "id": "O6oh1l1KUKQc"
      },
      "source": [
        "def initialize_weights( layers=[2,2,2] ):\n",
        "  W = list()\n",
        "  # para cada par de camadas sucessivas\n",
        "  for i in range( len(layers)-1 ):\n",
        "    W_l = np.random.normal( loc=0, scale=0.1, size=(layers[i]+1, layers[i+1]) )\n",
        "    W.append( W_l )\n",
        "  return W"
      ],
      "execution_count": 14,
      "outputs": []
    },
    {
      "cell_type": "markdown",
      "metadata": {
        "id": "P7JS0P4D4NTH"
      },
      "source": [
        "Funções de ativação"
      ]
    },
    {
      "cell_type": "code",
      "metadata": {
        "id": "SbvK-IHj4QHn"
      },
      "source": [
        "# Função de ativação: sigmoid ou tanh\n",
        "def activate( V ):\n",
        "  if tanh_flag:\n",
        "    return np.tanh( V )\n",
        "  else: # i.e., sigmoid\n",
        "    return 1. / ( 1. + np.exp(-V) )\n",
        "\n",
        "def derivative( Y ):\n",
        "  if tanh_flag:\n",
        "    return 1. - Y ** 2\n",
        "  else: # i.e., sigmoid\n",
        "    return Y * (1 - Y)"
      ],
      "execution_count": 15,
      "outputs": []
    },
    {
      "cell_type": "markdown",
      "metadata": {
        "id": "yEsSZdceV6aX"
      },
      "source": [
        "Funções para rodar e avaliar a rede MLP."
      ]
    },
    {
      "cell_type": "code",
      "metadata": {
        "id": "5_ieAvbvWOkS"
      },
      "source": [
        "def forward( W, X ):\n",
        "  Y_list = list()\n",
        "  X_i = X\n",
        "  Y_list.append( X_i )\n",
        "  # para cada par de camadas sucessivas\n",
        "  for i in range( len(W) ):\n",
        "    # concatenar elemento neutro para os bias\n",
        "    X_i = np.concatenate( [ X_i, [+1] ] )\n",
        "    # multiplicação de vetor por matriz\n",
        "    V_i = np.dot( X_i, W[i] )\n",
        "    # ativação element-wise\n",
        "    Y_i = activate( V_i )\n",
        "    # concatenar a lista com saídas de cada camada\n",
        "    Y_list.append( Y_i )\n",
        "    # entrada da próxima camada = saída da camada i\n",
        "    X_i = Y_i\n",
        "  # lista com ativações dos neurônios de cada camada\n",
        "  return Y_list\n",
        "\n",
        "# Função para dar um forward na base de dados\n",
        "def predict( W, data ):\n",
        "  outputs = list()\n",
        "  for X in data:\n",
        "    Y = forward( W, X )\n",
        "    outputs.append( Y[-1] )\n",
        "  return outputs\n",
        "\n",
        "# Função para aferir acurácia\n",
        "def evaluate( W, data, t ):\n",
        "  Y = predict( W, data )\n",
        "  hits = np.sum( [ np.argmax(Y[i]) == np.argmax(t[i]) for i in range( len(Y) ) ] )\n",
        "  acc = hits / len(Y)\n",
        "  return acc\n",
        "\n",
        "# Computação do erro de uma amostra (ERRO PARA CADA EPOCH)\n",
        "def compute_mse( y, t ):\n",
        "  return 1/2 * np.sum( [ (t[i] - y[i])**2 for i in range(len(y)) ] )\n",
        "\n",
        "# Computação do erro de um conjunto de dados (ERRO DO CONJUTNO DE DADOS)\n",
        "def compute_total_mse( W, data, labels ):\n",
        "  y = predict( W, data )\n",
        "  E = [ compute_mse( y[i], labels[i] ) for i in range(len(data)) ]\n",
        "  return np.mean( E )\n"
      ],
      "execution_count": 16,
      "outputs": []
    },
    {
      "cell_type": "markdown",
      "metadata": {
        "id": "bv0PTjgaaMUY"
      },
      "source": [
        "Funções para treinamento da rede."
      ]
    },
    {
      "cell_type": "code",
      "metadata": {
        "id": "7TtQkjNObtft"
      },
      "source": [
        "def train_step(W, X, T, eta):\n",
        "  Y = forward( W, X )\n",
        "  # Para cada camada da rede, em ordem reversa\n",
        "  for l in reversed( range(len(W)) ):\n",
        "    Y_l = np.concatenate( [ Y[l], [+1] ] )\n",
        "    delta = list()\n",
        "    for j in range( W[l].shape[1] ):\n",
        "      # Camada de saída\n",
        "      if l == len(W)-1:\n",
        "        s = T[j] - Y[-1][j]\n",
        "      # Camada intermediária\n",
        "      else:\n",
        "        s = np.sum( W[l+1][j] * old_delta )\n",
        "      delta.append( s * derivative( Y[l+1][j] ) )\n",
        "      # Atualizar os pesos\n",
        "      for i in range( W[l].shape[0] ):\n",
        "        W[l][i,j] += eta * delta[j] * Y_l[i]\n",
        "    old_delta = delta\n",
        "  return W\n",
        "\n",
        "def train( W, data, labels, eta=0.5, epochs=10000, epsilon=0.1 ):\n",
        "  error = 100.\n",
        "  epoch = 0\n",
        "  while error > epsilon:\n",
        "    # Apresentar padrões em ordem aleatória\n",
        "    ids = np.random.choice( len(data), len(data), replace=False )\n",
        "    for i in range( len( data ) ):\n",
        "      W = train_step( W, data[ ids[ i ] ], labels[ ids[ i ] ], eta )\n",
        "    error = compute_total_mse(W, data, labels)\n",
        "    if not epoch % 200:\n",
        "      print( 'Epoch: %d, mse: %f' %( epoch, error ) )\n",
        "    if epoch >= epochs:\n",
        "      break\n",
        "    epoch += 1\n",
        "  print(error)\n",
        "  return W"
      ],
      "execution_count": 17,
      "outputs": []
    },
    {
      "cell_type": "markdown",
      "metadata": {
        "id": "s56OsOjgc9bB"
      },
      "source": [
        "# Treinar e testar a rede para resolver a base de dados\n",
        "\n"
      ]
    },
    {
      "cell_type": "markdown",
      "metadata": {
        "id": "0ajlAAfbw7rh"
      },
      "source": [
        "## Função para produzir saídas da camada intermediária"
      ]
    },
    {
      "cell_type": "code",
      "metadata": {
        "id": "Hi_1st8U0x07"
      },
      "source": [
        "def predict_intermediate( W, data ):\n",
        "  H = list()\n",
        "  for X in data:\n",
        "    Y = forward( W, X )\n",
        "    H.append( Y[-2] )\n",
        "  return H"
      ],
      "execution_count": 18,
      "outputs": []
    },
    {
      "cell_type": "markdown",
      "metadata": {
        "id": "VNicX9BXyWOI"
      },
      "source": [
        "## Treinar e avaliar com sigmoid"
      ]
    },
    {
      "cell_type": "code",
      "metadata": {
        "id": "OmAHBXVRc_Pw",
        "colab": {
          "base_uri": "https://localhost:8080/"
        },
        "outputId": "f23065a9-1007-4dcc-93d2-1eb89327978f"
      },
      "source": [
        "#Aqui é onde eu executo tudo\n",
        "tanh_flag = False\n",
        "X_train, X_test, y_train, y_test = prepare_data()\n",
        "W = initialize_weights( [4, 2, 3] )\n",
        "\n",
        "W = train( W, X_train, y_train, eta=0.2, epochs = 1000, epsilon = 0.01 )\n",
        "print( 'Train accuracy:', evaluate( W, X_train, y_train ) )\n",
        "print( 'Test accuracy:', evaluate( W, X_test, y_test ) )"
      ],
      "execution_count": 22,
      "outputs": [
        {
          "output_type": "stream",
          "name": "stdout",
          "text": [
            "Epoch: 0, mse: 0.333016\n",
            "Epoch: 200, mse: 0.019440\n",
            "Epoch: 400, mse: 0.016501\n",
            "Epoch: 600, mse: 0.015857\n",
            "Epoch: 800, mse: 0.015718\n",
            "Epoch: 1000, mse: 0.015283\n",
            "0.015283492099064296\n",
            "Train accuracy: 0.98\n",
            "Test accuracy: 1.0\n"
          ]
        }
      ]
    },
    {
      "cell_type": "markdown",
      "metadata": {
        "id": "8xzcAui2qb8Q"
      },
      "source": [
        "## Plotar saídas da camada intermediária (sigmoid)"
      ]
    },
    {
      "cell_type": "code",
      "metadata": {
        "id": "LhnO92RY0a5X",
        "colab": {
          "base_uri": "https://localhost:8080/",
          "height": 265
        },
        "outputId": "9513507a-f2ad-4ffb-d429-e0a5fda16894"
      },
      "source": [
        "import matplotlib.pyplot as plt\n",
        "\n",
        "H = predict_intermediate(W, X_test)\n",
        "\n",
        "h0 = [ x[0] for x in H ]\n",
        "h1 = [ x[1] for x in H ]\n",
        "lbl = [ x.argmax() for x in y_test ]\n",
        "\n",
        "plt.scatter( h0, h1, c = lbl )\n",
        "plt.show()"
      ],
      "execution_count": 20,
      "outputs": [
        {
          "output_type": "display_data",
          "data": {
            "image/png": "[encoded data removed]",
            "text/plain": [
              "<Figure size 432x288 with 1 Axes>"
            ]
          },
          "metadata": {
            "needs_background": "light"
          }
        }
      ]
    },
    {
      "cell_type": "markdown",
      "metadata": {
        "id": "5-l0LVUDyuiY"
      },
      "source": [
        "## Treinar e avaliar com tangente hiperbólica"
      ]
    },
    {
      "cell_type": "code",
      "metadata": {
        "id": "oDRRltAOyw59",
        "colab": {
          "base_uri": "https://localhost:8080/"
        },
        "outputId": "0ac8e320-0165-4d74-ee78-407ed39bcae2"
      },
      "source": [
        "tanh_flag = True\n",
        "X_train, X_test, y_train, y_test = prepare_data()\n",
        "W = initialize_weights( [4, 2, 3] )\n",
        "\n",
        "W = train( W, X_train, y_train, eta=0.5, epochs = 1000, epsilon = 0.01 )\n",
        "print( 'Train accuracy:', evaluate( W, X_train, y_train ) )\n",
        "print( 'Test accuracy:', evaluate( W, X_test, y_test ) )"
      ],
      "execution_count": null,
      "outputs": [
        {
          "output_type": "stream",
          "text": [
            "Epoch: 0, mse: 0.308194\n",
            "Epoch: 200, mse: 0.110955\n",
            "Epoch: 400, mse: 0.108370\n",
            "Epoch: 600, mse: 0.079548\n",
            "Epoch: 800, mse: 0.039050\n",
            "Epoch: 1000, mse: 0.118644\n",
            "0.11864402051659724\n",
            "Train accuracy: 0.97\n",
            "Test accuracy: 0.96\n"
          ],
          "name": "stdout"
        }
      ]
    },
    {
      "cell_type": "markdown",
      "metadata": {
        "id": "biNrFKTkzBX5"
      },
      "source": [
        "## Plotar saídas da camada intermediária (tanh)"
      ]
    },
    {
      "cell_type": "code",
      "metadata": {
        "id": "LwBgMFtay9Qy",
        "colab": {
          "base_uri": "https://localhost:8080/",
          "height": 265
        },
        "outputId": "4720bdc2-1c8c-4560-9a6c-697930560f9d"
      },
      "source": [
        "import matplotlib.pyplot as plt\n",
        "\n",
        "H = predict_intermediate(W, X_test)\n",
        "\n",
        "h0 = [ x[0] for x in H ]\n",
        "h1 = [ x[1] for x in H ]\n",
        "lbl = [ x.argmax() for x in y_test ]\n",
        "\n",
        "plt.scatter( h0, h1, c = lbl )\n",
        "plt.show()"
      ],
      "execution_count": 21,
      "outputs": [
        {
          "output_type": "display_data",
          "data": {
            "image/png": "[encoded data removed]",
            "text/plain": [
              "<Figure size 432x288 with 1 Axes>"
            ]
          },
          "metadata": {
            "needs_background": "light"
          }
        }
      ]
    }
  ]
}